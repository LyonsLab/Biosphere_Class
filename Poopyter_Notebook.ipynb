{
 "cells": [
  {
   "cell_type": "code",
   "execution_count": 26,
   "metadata": {},
   "outputs": [],
   "source": [
    "# Biosphere Class - Everybody Poops\n",
    "\n",
    "# Recommended reading:\n",
    "\n",
    "# Heaton, K. W., Radvan, J., Cripps, H., Mountford, R. A., Braddon, F. E., & Hughes, A. O. (1992). \n",
    "# Defecation frequency and timing, and stool form in the general population: a prospective study. \n",
    "# Gut, 33(6), 818-824."
   ]
  },
  {
   "cell_type": "code",
   "execution_count": null,
   "metadata": {},
   "outputs": [],
   "source": [
    "# One of the most essential parts of the scientific method comes after all of the data collection.\n",
    "# After spending so much time and energy acquiring resources, performing experiments, and collecting data\n",
    "# you'll want all of your work to be useful.  The only way it will be useful is if it allows you, the scientist,\n",
    "# to discovery something novel and the general scientific community something that can be used to improve our \n",
    "# current understanding. This is the transformation of data to knowledge and wisdom. In order to gain this wisdom, \n",
    "# you must display your data in a way that is understandable and demonstrates clearly the revelation your study provides"
   ]
  },
  {
   "cell_type": "code",
   "execution_count": null,
   "metadata": {},
   "outputs": [],
   "source": [
    "# In this example, we take data recreated from a 1992 study by Heaton et. al, from Bristol, England. It is the \n",
    "# first large-scale collection of human dececation behavior.  It surveys ~1000 men and women about the timing and \n",
    "# frequency of their poops.  Rather than asking people how often they poop (and if they have normal poops), they \n",
    "# asked them to record their data. \n",
    "# \n",
    "# In this exercise, you will use a recreated set of data from that studey and plot them to derive scientific insight.\n",
    "# The two variables you will plot will be the time of day for a poop and the frequency interval between poops. \n",
    "# After these plots are generated, you will then derive scientific insights about human behavior.  These insights\n",
    "# may be interesting to both you and the broader scientific community. For some, perhaps this will generate wisdom \n",
    "# that can lead to an improved human condition.\n",
    "#\n",
    "# Let's get sharted."
   ]
  },
  {
   "cell_type": "code",
   "execution_count": 1,
   "metadata": {},
   "outputs": [],
   "source": [
    "# Loading libraries\n",
    "\n",
    "# This first cell imports different libraries into your notebook. These libraries act like a cookbook. You can call\n",
    "# a recipe (aka function or method) from the cookbook to have the computer do something for you, but without access \n",
    "# to the cookbook, your computer will be just as confused as you are. \n",
    "# The first command, import pandas as pd, imports a library called pandas, and tells your computer you'd like to refer\n",
    "# to it as the shorter \"pd\". This just saves time and typing later.\n",
    "\n",
    "import pandas as pd\n",
    "import numpy as np\n",
    "from numpy.random import randn\n",
    "from scipy import stats\n",
    "import matplotlib as mpl\n",
    "import matplotlib.pyplot as plt\n",
    "%matplotlib inline"
   ]
  },
  {
   "cell_type": "code",
   "execution_count": 3,
   "metadata": {},
   "outputs": [],
   "source": [
    "# Loading your data\n",
    "\n",
    "# Using the pandas library you loaded in above, you can call a command to \"read\" a csv file and store the contents in your program.\n",
    "# CSV stands for \"comma separated values\".  The file \"defecation_data.csv\" contains data recreated data from the study. \n",
    "# You, however, could name it whatever you'd like, such as \"turd_count.csv\" or \"pooping_data.csv\". Since it is\n",
    "# a CSV file, best practices means it should have the extension \".csv\". In addition, files names should be \n",
    "# informative and relatively short. Use a \"_\" in a filename any time you would typically put a space.\n",
    "\n",
    "defecation_data = pd.read_csv('defecation_data.csv')"
   ]
  },
  {
   "cell_type": "code",
   "execution_count": 4,
   "metadata": {},
   "outputs": [
    {
     "data": {
      "text/plain": [
       "1898"
      ]
     },
     "execution_count": 4,
     "metadata": {},
     "output_type": "execute_result"
    }
   ],
   "source": [
    "# Once data are loaded in your program, you can perform tasks on those data.  For example, you can see how many elements \n",
    "# of data there are.  This is done by calling \"len\" on the variable storing the data.  \"len\" stands for \"length\".\n",
    "\n",
    "len(defecation_data)"
   ]
  },
  {
   "cell_type": "code",
   "execution_count": 6,
   "metadata": {},
   "outputs": [
    {
     "data": {
      "text/html": [
       "<div>\n",
       "<style scoped>\n",
       "    .dataframe tbody tr th:only-of-type {\n",
       "        vertical-align: middle;\n",
       "    }\n",
       "\n",
       "    .dataframe tbody tr th {\n",
       "        vertical-align: top;\n",
       "    }\n",
       "\n",
       "    .dataframe thead th {\n",
       "        text-align: right;\n",
       "    }\n",
       "</style>\n",
       "<table border=\"1\" class=\"dataframe\">\n",
       "  <thead>\n",
       "    <tr style=\"text-align: right;\">\n",
       "      <th></th>\n",
       "      <th>sex</th>\n",
       "      <th>age_range</th>\n",
       "      <th>avg_hr</th>\n",
       "      <th>avg_int</th>\n",
       "    </tr>\n",
       "  </thead>\n",
       "  <tbody>\n",
       "    <tr>\n",
       "      <th>0</th>\n",
       "      <td>Female</td>\n",
       "      <td>30-39</td>\n",
       "      <td>6</td>\n",
       "      <td>24</td>\n",
       "    </tr>\n",
       "    <tr>\n",
       "      <th>1</th>\n",
       "      <td>Female</td>\n",
       "      <td>50-59</td>\n",
       "      <td>10</td>\n",
       "      <td>6</td>\n",
       "    </tr>\n",
       "    <tr>\n",
       "      <th>2</th>\n",
       "      <td>Female</td>\n",
       "      <td>25-29</td>\n",
       "      <td>19</td>\n",
       "      <td>25</td>\n",
       "    </tr>\n",
       "    <tr>\n",
       "      <th>3</th>\n",
       "      <td>Male</td>\n",
       "      <td>60-69</td>\n",
       "      <td>8</td>\n",
       "      <td>14</td>\n",
       "    </tr>\n",
       "    <tr>\n",
       "      <th>4</th>\n",
       "      <td>Male</td>\n",
       "      <td>40-49</td>\n",
       "      <td>15</td>\n",
       "      <td>13</td>\n",
       "    </tr>\n",
       "  </tbody>\n",
       "</table>\n",
       "</div>"
      ],
      "text/plain": [
       "      sex age_range  avg_hr  avg_int\n",
       "0  Female     30-39       6       24\n",
       "1  Female     50-59      10        6\n",
       "2  Female     25-29      19       25\n",
       "3    Male     60-69       8       14\n",
       "4    Male     40-49      15       13"
      ]
     },
     "execution_count": 6,
     "metadata": {},
     "output_type": "execute_result"
    }
   ],
   "source": [
    "# Preview your data \n",
    "\n",
    "# If you want to preview your data, but not scroll through all off it,\n",
    "# you can use the head command. This will show you the first 5 data points of\n",
    "# the dataset you've loaded in. Notice the column names. These are variable names \n",
    "# that you can use to do analyses.\n",
    "\n",
    "# When this plots, you will see the following column headers for your data:\n",
    "\n",
    "# participant_id:  anonymous identification number for an individual\n",
    "# sex: self-identified biological sex of the individual\n",
    "# age_range:  age range of the individual\n",
    "# hr:  time of defecation event rounded to nearest hour\n",
    "\n",
    "defecation_data.head()"
   ]
  },
  {
   "cell_type": "code",
   "execution_count": 7,
   "metadata": {},
   "outputs": [
    {
     "data": {
      "text/html": [
       "<div>\n",
       "<style scoped>\n",
       "    .dataframe tbody tr th:only-of-type {\n",
       "        vertical-align: middle;\n",
       "    }\n",
       "\n",
       "    .dataframe tbody tr th {\n",
       "        vertical-align: top;\n",
       "    }\n",
       "\n",
       "    .dataframe thead th {\n",
       "        text-align: right;\n",
       "    }\n",
       "</style>\n",
       "<table border=\"1\" class=\"dataframe\">\n",
       "  <thead>\n",
       "    <tr style=\"text-align: right;\">\n",
       "      <th></th>\n",
       "      <th>avg_hr</th>\n",
       "      <th>avg_int</th>\n",
       "    </tr>\n",
       "  </thead>\n",
       "  <tbody>\n",
       "    <tr>\n",
       "      <th>count</th>\n",
       "      <td>1898.000000</td>\n",
       "      <td>1898.000000</td>\n",
       "    </tr>\n",
       "    <tr>\n",
       "      <th>mean</th>\n",
       "      <td>10.807165</td>\n",
       "      <td>24.814542</td>\n",
       "    </tr>\n",
       "    <tr>\n",
       "      <th>std</th>\n",
       "      <td>5.006344</td>\n",
       "      <td>11.608095</td>\n",
       "    </tr>\n",
       "    <tr>\n",
       "      <th>min</th>\n",
       "      <td>0.000000</td>\n",
       "      <td>1.000000</td>\n",
       "    </tr>\n",
       "    <tr>\n",
       "      <th>25%</th>\n",
       "      <td>7.000000</td>\n",
       "      <td>20.000000</td>\n",
       "    </tr>\n",
       "    <tr>\n",
       "      <th>50%</th>\n",
       "      <td>9.000000</td>\n",
       "      <td>24.000000</td>\n",
       "    </tr>\n",
       "    <tr>\n",
       "      <th>75%</th>\n",
       "      <td>13.000000</td>\n",
       "      <td>26.000000</td>\n",
       "    </tr>\n",
       "    <tr>\n",
       "      <th>max</th>\n",
       "      <td>23.000000</td>\n",
       "      <td>59.000000</td>\n",
       "    </tr>\n",
       "  </tbody>\n",
       "</table>\n",
       "</div>"
      ],
      "text/plain": [
       "            avg_hr      avg_int\n",
       "count  1898.000000  1898.000000\n",
       "mean     10.807165    24.814542\n",
       "std       5.006344    11.608095\n",
       "min       0.000000     1.000000\n",
       "25%       7.000000    20.000000\n",
       "50%       9.000000    24.000000\n",
       "75%      13.000000    26.000000\n",
       "max      23.000000    59.000000"
      ]
     },
     "execution_count": 7,
     "metadata": {},
     "output_type": "execute_result"
    }
   ],
   "source": [
    "#View a summary of statistics for the dataset\n",
    "defecation_data.describe()"
   ]
  },
  {
   "cell_type": "code",
   "execution_count": 8,
   "metadata": {},
   "outputs": [],
   "source": [
    "# Looking at the mean, median, quartiles and range can help inform you, at a glance, of what your data may be\n",
    "# suggesting. For instance, the mean interval appears to be around 24 hours, suggesting a daily poop cycle.  \n",
    "# However, note that there is a standard deviation of 11.6 hours, which indicates that there is a lot of variation\n",
    "# for how frequently an individual person poops."
   ]
  },
  {
   "cell_type": "code",
   "execution_count": 85,
   "metadata": {},
   "outputs": [
    {
     "data": {
      "text/plain": [
       "<function matplotlib.pyplot.show(*args, **kw)>"
      ]
     },
     "execution_count": 85,
     "metadata": {},
     "output_type": "execute_result"
    },
    {
     "data": {
      "image/png": "[encoded data removed]",
      "text/plain": [
       "<Figure size 800x400 with 1 Axes>"
      ]
     },
     "metadata": {
      "needs_background": "light"
     },
     "output_type": "display_data"
    }
   ],
   "source": [
    "# Next, we can create a histogram to get a better visual of each of the variables.\n",
    "# Let's start with avg_hr to see what time of day most people poop. \n",
    "\n",
    "# Set up figure, make image size larger\n",
    "plt.figure(figsize=(8,4), dpi=100)\n",
    "\n",
    "# Need the bins for the histogram\n",
    "hours = [0,1,2,3,4,5,6,7,8,9,10,11,12,13,14,15,16,17,18,19,20,21,22,23,24]\n",
    "\n",
    "# Populate the histogram with data\n",
    "plt.hist(defecation_data['avg_hr'], bins=hours, rwidth=.9)\n",
    "\n",
    "# To make the plot a bit more polished, we will add a title, and labels to the x and y axes.\n",
    "plt.title(\"Average Time of Day of Defecation Event (Female and Male)\")\n",
    "plt.xlabel('Hour of Defecation (24:00)')\n",
    "plt.xticks(ticks=hours,labels=hours)\n",
    "plt.ylabel('Number of Participants')\n",
    "\n",
    "# plt.show is the only command that will actually generate an output. \n",
    "plt.show"
   ]
  },
  {
   "cell_type": "code",
   "execution_count": 10,
   "metadata": {},
   "outputs": [],
   "source": [
    "# What can you inferred from this data?\n",
    "# Is this consistent with your personal experience?\n",
    "# The mean (average) time you calculated for when a person poops is around 10:45 in the morning.  \n",
    "# Why is that the number the same or different than what you infer from the histogram above?\n",
    "# What does that tell you about calculating \"means\"?  Are means always meaningful and insightful?"
   ]
  },
  {
   "cell_type": "code",
   "execution_count": null,
   "metadata": {},
   "outputs": [],
   "source": [
    "# First, let's count the number of males and females in the study\n",
    "# Now, there are even more nuggets of wisdom to be gained from this data set. For instance, we can\n",
    "# examine the difference in pooping schedules between Males and Females, the only sexes recognized \n",
    "# in Bristol in 1992. We've come a long way.\n",
    "# To examine these differences, lets pinch this dataset into two separate vessels\n",
    "# Let's make sure the variable \"sex\" is represented as we expect"
   ]
  },
  {
   "cell_type": "code",
   "execution_count": 91,
   "metadata": {},
   "outputs": [
    {
     "name": "stdout",
     "output_type": "stream",
     "text": [
      "Female    1059\n",
      "Male       839\n",
      "Name: sex, dtype: int64\n"
     ]
    }
   ],
   "source": [
    "print(defecation_data.sex.value_counts())"
   ]
  },
  {
   "cell_type": "code",
   "execution_count": 92,
   "metadata": {},
   "outputs": [],
   "source": [
    "# There are more females than males in our data set.  "
   ]
  },
  {
   "cell_type": "code",
   "execution_count": null,
   "metadata": {},
   "outputs": [],
   "source": [
    "# To make handling the data a bit easier, we will create two datasets, one for Female and one for Male: "
   ]
  },
  {
   "cell_type": "code",
   "execution_count": 96,
   "metadata": {},
   "outputs": [],
   "source": [
    "# We can create two separate datasets. \n",
    "female_defecation = defecation_data[defecation_data['sex'] == 'Female']\n",
    "male_defecation = defecation_data[defecation_data['sex'] == 'Male']"
   ]
  },
  {
   "cell_type": "code",
   "execution_count": 97,
   "metadata": {},
   "outputs": [],
   "source": [
    "# As we did with the whole dataset, we can get summary statistics on each of these:"
   ]
  },
  {
   "cell_type": "code",
   "execution_count": 98,
   "metadata": {},
   "outputs": [
    {
     "data": {
      "text/html": [
       "<div>\n",
       "<style scoped>\n",
       "    .dataframe tbody tr th:only-of-type {\n",
       "        vertical-align: middle;\n",
       "    }\n",
       "\n",
       "    .dataframe tbody tr th {\n",
       "        vertical-align: top;\n",
       "    }\n",
       "\n",
       "    .dataframe thead th {\n",
       "        text-align: right;\n",
       "    }\n",
       "</style>\n",
       "<table border=\"1\" class=\"dataframe\">\n",
       "  <thead>\n",
       "    <tr style=\"text-align: right;\">\n",
       "      <th></th>\n",
       "      <th>avg_hr</th>\n",
       "      <th>avg_int</th>\n",
       "    </tr>\n",
       "  </thead>\n",
       "  <tbody>\n",
       "    <tr>\n",
       "      <th>count</th>\n",
       "      <td>1059.000000</td>\n",
       "      <td>1059.000000</td>\n",
       "    </tr>\n",
       "    <tr>\n",
       "      <th>mean</th>\n",
       "      <td>10.974504</td>\n",
       "      <td>26.643059</td>\n",
       "    </tr>\n",
       "    <tr>\n",
       "      <th>std</th>\n",
       "      <td>5.008340</td>\n",
       "      <td>12.135151</td>\n",
       "    </tr>\n",
       "    <tr>\n",
       "      <th>min</th>\n",
       "      <td>0.000000</td>\n",
       "      <td>1.000000</td>\n",
       "    </tr>\n",
       "    <tr>\n",
       "      <th>25%</th>\n",
       "      <td>8.000000</td>\n",
       "      <td>22.000000</td>\n",
       "    </tr>\n",
       "    <tr>\n",
       "      <th>50%</th>\n",
       "      <td>9.000000</td>\n",
       "      <td>26.000000</td>\n",
       "    </tr>\n",
       "    <tr>\n",
       "      <th>75%</th>\n",
       "      <td>13.000000</td>\n",
       "      <td>28.000000</td>\n",
       "    </tr>\n",
       "    <tr>\n",
       "      <th>max</th>\n",
       "      <td>23.000000</td>\n",
       "      <td>59.000000</td>\n",
       "    </tr>\n",
       "  </tbody>\n",
       "</table>\n",
       "</div>"
      ],
      "text/plain": [
       "            avg_hr      avg_int\n",
       "count  1059.000000  1059.000000\n",
       "mean     10.974504    26.643059\n",
       "std       5.008340    12.135151\n",
       "min       0.000000     1.000000\n",
       "25%       8.000000    22.000000\n",
       "50%       9.000000    26.000000\n",
       "75%      13.000000    28.000000\n",
       "max      23.000000    59.000000"
      ]
     },
     "execution_count": 98,
     "metadata": {},
     "output_type": "execute_result"
    }
   ],
   "source": [
    "female_defecation.describe()"
   ]
  },
  {
   "cell_type": "code",
   "execution_count": 99,
   "metadata": {},
   "outputs": [
    {
     "data": {
      "text/html": [
       "<div>\n",
       "<style scoped>\n",
       "    .dataframe tbody tr th:only-of-type {\n",
       "        vertical-align: middle;\n",
       "    }\n",
       "\n",
       "    .dataframe tbody tr th {\n",
       "        vertical-align: top;\n",
       "    }\n",
       "\n",
       "    .dataframe thead th {\n",
       "        text-align: right;\n",
       "    }\n",
       "</style>\n",
       "<table border=\"1\" class=\"dataframe\">\n",
       "  <thead>\n",
       "    <tr style=\"text-align: right;\">\n",
       "      <th></th>\n",
       "      <th>avg_hr</th>\n",
       "      <th>avg_int</th>\n",
       "    </tr>\n",
       "  </thead>\n",
       "  <tbody>\n",
       "    <tr>\n",
       "      <th>count</th>\n",
       "      <td>839.000000</td>\n",
       "      <td>839.000000</td>\n",
       "    </tr>\n",
       "    <tr>\n",
       "      <th>mean</th>\n",
       "      <td>10.595948</td>\n",
       "      <td>22.506555</td>\n",
       "    </tr>\n",
       "    <tr>\n",
       "      <th>std</th>\n",
       "      <td>4.998810</td>\n",
       "      <td>10.466660</td>\n",
       "    </tr>\n",
       "    <tr>\n",
       "      <th>min</th>\n",
       "      <td>0.000000</td>\n",
       "      <td>1.000000</td>\n",
       "    </tr>\n",
       "    <tr>\n",
       "      <th>25%</th>\n",
       "      <td>7.000000</td>\n",
       "      <td>17.000000</td>\n",
       "    </tr>\n",
       "    <tr>\n",
       "      <th>50%</th>\n",
       "      <td>9.000000</td>\n",
       "      <td>23.000000</td>\n",
       "    </tr>\n",
       "    <tr>\n",
       "      <th>75%</th>\n",
       "      <td>13.500000</td>\n",
       "      <td>24.000000</td>\n",
       "    </tr>\n",
       "    <tr>\n",
       "      <th>max</th>\n",
       "      <td>23.000000</td>\n",
       "      <td>59.000000</td>\n",
       "    </tr>\n",
       "  </tbody>\n",
       "</table>\n",
       "</div>"
      ],
      "text/plain": [
       "           avg_hr     avg_int\n",
       "count  839.000000  839.000000\n",
       "mean    10.595948   22.506555\n",
       "std      4.998810   10.466660\n",
       "min      0.000000    1.000000\n",
       "25%      7.000000   17.000000\n",
       "50%      9.000000   23.000000\n",
       "75%     13.500000   24.000000\n",
       "max     23.000000   59.000000"
      ]
     },
     "execution_count": 99,
     "metadata": {},
     "output_type": "execute_result"
    }
   ],
   "source": [
    "male_defecation.describe()"
   ]
  },
  {
   "cell_type": "code",
   "execution_count": 100,
   "metadata": {},
   "outputs": [],
   "source": [
    "# Overall, the statistics appear similar, but let's look at the distributions"
   ]
  },
  {
   "cell_type": "code",
   "execution_count": 101,
   "metadata": {},
   "outputs": [
    {
     "data": {
      "text/plain": [
       "<function matplotlib.pyplot.show(*args, **kw)>"
      ]
     },
     "execution_count": 101,
     "metadata": {},
     "output_type": "execute_result"
    },
    {
     "data": {
      "image/png": "[encoded data removed]",
      "text/plain": [
       "<Figure size 800x400 with 1 Axes>"
      ]
     },
     "metadata": {
      "needs_background": "light"
     },
     "output_type": "display_data"
    },
    {
     "data": {
      "image/png": "[encoded data removed]",
      "text/plain": [
       "<Figure size 800x400 with 1 Axes>"
      ]
     },
     "metadata": {
      "needs_background": "light"
     },
     "output_type": "display_data"
    }
   ],
   "source": [
    "#Female data histogram\n",
    "# Set up figure, make image size larger\n",
    "plt.figure(figsize=(8,4), dpi=100)\n",
    "\n",
    "# Need the bins for the histogram\n",
    "hours = [0,1,2,3,4,5,6,7,8,9,10,11,12,13,14,15,16,17,18,19,20,21,22,23,24]\n",
    "\n",
    "# Populate the histogram with data\n",
    "plt.hist(female_defecation['avg_hr'], bins=hours, rwidth=.9)\n",
    "\n",
    "# To make the plot a bit more polished, we will add a title, and labels to the x and y axes.\n",
    "plt.title(\"Average Time of Day of Defecation Event (Female)\")\n",
    "plt.xlabel('Hour of Defecation (24:00)')\n",
    "plt.xticks(ticks=hours,labels=hours)\n",
    "plt.ylabel('Number of Participants')\n",
    "\n",
    "# plt.show is the only command that will actually generate an output. \n",
    "plt.show\n",
    "\n",
    "############################\n",
    "#Male data histogram\n",
    "# Set up figure, make image size larger\n",
    "plt.figure(figsize=(8,4), dpi=100)\n",
    "\n",
    "# Need the bins for the histogram\n",
    "hours = [0,1,2,3,4,5,6,7,8,9,10,11,12,13,14,15,16,17,18,19,20,21,22,23,24]\n",
    "\n",
    "# Populate the histogram with data\n",
    "plt.hist(male_defecation['avg_hr'], bins=hours, rwidth=.9)\n",
    "\n",
    "# To make the plot a bit more polished, we will add a title, and labels to the x and y axes.\n",
    "plt.title(\"Average Time of Day of Defecation Event (Male)\")\n",
    "plt.xlabel('Hour of Defecation (24:00)')\n",
    "plt.xticks(ticks=hours,labels=hours)\n",
    "plt.ylabel('Number of Participants')\n",
    "\n",
    "# plt.show is the only command that will actually generate an output. \n",
    "plt.show"
   ]
  },
  {
   "cell_type": "code",
   "execution_count": 102,
   "metadata": {},
   "outputs": [],
   "source": [
    "# There appears to be differences.  Females have peak pooping around 8am, while males peak their number 2 around 7am.\n",
    "#  Let's plot these data together to better visualize the pattern"
   ]
  },
  {
   "cell_type": "code",
   "execution_count": 103,
   "metadata": {},
   "outputs": [
    {
     "data": {
      "text/plain": [
       "<function matplotlib.pyplot.show(*args, **kw)>"
      ]
     },
     "execution_count": 103,
     "metadata": {},
     "output_type": "execute_result"
    },
    {
     "data": {
      "image/png": "[encoded data removed]",
      "text/plain": [
       "<Figure size 800x400 with 1 Axes>"
      ]
     },
     "metadata": {
      "needs_background": "light"
     },
     "output_type": "display_data"
    }
   ],
   "source": [
    "#Female data histogram\n",
    "# Set up figure, make image size larger\n",
    "plt.figure(figsize=(8,4), dpi=100)\n",
    "\n",
    "# Need the bins for the histogram\n",
    "hours = [0,1,2,3,4,5,6,7,8,9,10,11,12,13,14,15,16,17,18,19,20,21,22,23,24]\n",
    "\n",
    "# Populate the histogram with data\n",
    "plt.hist(female_defecation['avg_hr'],color='red',alpha=0.5,bins=hours, rwidth=.9)\n",
    "plt.hist(male_defecation['avg_hr'],color='blue',alpha=0.5,bins=hours, rwidth=.9)\n",
    "\n",
    "# To make the plot a bit more polished, we will add a title, and labels to the x and y axes.\n",
    "plt.title(\"Average Time of Day of Defecation Event (Female)\")\n",
    "plt.xlabel('Hour of Defecation (24:00)')\n",
    "plt.xticks(ticks=hours,labels=hours)\n",
    "plt.ylabel('Number of Participants')\n",
    "\n",
    "# plt.show is the only command that will actually generate an output. \n",
    "plt.show\n"
   ]
  },
  {
   "cell_type": "code",
   "execution_count": null,
   "metadata": {},
   "outputs": [],
   "source": [
    "# While this makes the pattern easier to see, it is important to remember that there are more female data points.\n",
    "# Let's normalize the data within each sex."
   ]
  },
  {
   "cell_type": "code",
   "execution_count": null,
   "metadata": {},
   "outputs": [],
   "source": [
    "#WORKING HERE"
   ]
  },
  {
   "cell_type": "code",
   "execution_count": 76,
   "metadata": {},
   "outputs": [
    {
     "data": {
      "text/plain": [
       "<function matplotlib.pyplot.show(*args, **kw)>"
      ]
     },
     "execution_count": 76,
     "metadata": {},
     "output_type": "execute_result"
    },
    {
     "data": {
      "image/png": "[encoded data removed]",
      "text/plain": [
       "<Figure size 432x288 with 1 Axes>"
      ]
     },
     "metadata": {
      "needs_background": "light"
     },
     "output_type": "display_data"
    }
   ],
   "source": [
    "#Now, with average interval. The largest interval measured was 59 hours.\n",
    "plt.hist(defecation_data['avg_int'],bins=60)\n",
    "plt.title(\"Average Interval Between Defecations Across Sex\")\n",
    "plt.xlabel('Time Between Defecating')\n",
    "plt.ylabel('Number of Participants')\n",
    "plt.show"
   ]
  },
  {
   "cell_type": "code",
   "execution_count": 12,
   "metadata": {},
   "outputs": [
    {
     "name": "stdout",
     "output_type": "stream",
     "text": [
      "Female    1059\n",
      "Male       839\n",
      "Name: sex, dtype: int64\n"
     ]
    }
   ],
   "source": [
    "#Now, there are even more nuggets of wisdom to be gained from this data set. For instance, we can\n",
    "#examine the difference in pooping schedules between Males and Females, the only sexes recognized \n",
    "#in Bristol in 1992. We've come a long way.\n",
    "#To examine these differences, lets pinch this dataset into 2 separate vessels\n",
    "#Let's make sure the variable \"sex\" is represented as we expect\n",
    "print(defecation_data.sex.value_counts())"
   ]
  },
  {
   "cell_type": "code",
   "execution_count": 13,
   "metadata": {},
   "outputs": [],
   "source": [
    "#Now that we know the only two options for sex are 'Female' and 'Male' (get it together, Heaton)\n",
    "#we can create two separate datasets. Again, feel free to get creative with naming these.\n",
    "female_defecation = defecation_data[defecation_data['sex'] == 'Female']\n",
    "male_defecation = defecation_data[defecation_data['sex'] == 'Male']"
   ]
  },
  {
   "cell_type": "code",
   "execution_count": 15,
   "metadata": {},
   "outputs": [
    {
     "data": {
      "text/html": [
       "<div>\n",
       "<style scoped>\n",
       "    .dataframe tbody tr th:only-of-type {\n",
       "        vertical-align: middle;\n",
       "    }\n",
       "\n",
       "    .dataframe tbody tr th {\n",
       "        vertical-align: top;\n",
       "    }\n",
       "\n",
       "    .dataframe thead th {\n",
       "        text-align: right;\n",
       "    }\n",
       "</style>\n",
       "<table border=\"1\" class=\"dataframe\">\n",
       "  <thead>\n",
       "    <tr style=\"text-align: right;\">\n",
       "      <th></th>\n",
       "      <th>sex</th>\n",
       "      <th>age_range</th>\n",
       "      <th>avg_hr</th>\n",
       "      <th>avg_int</th>\n",
       "    </tr>\n",
       "  </thead>\n",
       "  <tbody>\n",
       "    <tr>\n",
       "      <th>0</th>\n",
       "      <td>Female</td>\n",
       "      <td>30-39</td>\n",
       "      <td>6</td>\n",
       "      <td>24</td>\n",
       "    </tr>\n",
       "    <tr>\n",
       "      <th>1</th>\n",
       "      <td>Female</td>\n",
       "      <td>50-59</td>\n",
       "      <td>10</td>\n",
       "      <td>6</td>\n",
       "    </tr>\n",
       "    <tr>\n",
       "      <th>2</th>\n",
       "      <td>Female</td>\n",
       "      <td>25-29</td>\n",
       "      <td>19</td>\n",
       "      <td>25</td>\n",
       "    </tr>\n",
       "    <tr>\n",
       "      <th>5</th>\n",
       "      <td>Female</td>\n",
       "      <td>30-39</td>\n",
       "      <td>7</td>\n",
       "      <td>22</td>\n",
       "    </tr>\n",
       "    <tr>\n",
       "      <th>6</th>\n",
       "      <td>Female</td>\n",
       "      <td>50-59</td>\n",
       "      <td>11</td>\n",
       "      <td>48</td>\n",
       "    </tr>\n",
       "  </tbody>\n",
       "</table>\n",
       "</div>"
      ],
      "text/plain": [
       "      sex age_range  avg_hr  avg_int\n",
       "0  Female     30-39       6       24\n",
       "1  Female     50-59      10        6\n",
       "2  Female     25-29      19       25\n",
       "5  Female     30-39       7       22\n",
       "6  Female     50-59      11       48"
      ]
     },
     "execution_count": 15,
     "metadata": {},
     "output_type": "execute_result"
    }
   ],
   "source": [
    "#Again, check the previews of the dataframes, groundhogging, if you will\n",
    "female_defecation.head()"
   ]
  },
  {
   "cell_type": "code",
   "execution_count": 16,
   "metadata": {},
   "outputs": [
    {
     "data": {
      "text/html": [
       "<div>\n",
       "<style scoped>\n",
       "    .dataframe tbody tr th:only-of-type {\n",
       "        vertical-align: middle;\n",
       "    }\n",
       "\n",
       "    .dataframe tbody tr th {\n",
       "        vertical-align: top;\n",
       "    }\n",
       "\n",
       "    .dataframe thead th {\n",
       "        text-align: right;\n",
       "    }\n",
       "</style>\n",
       "<table border=\"1\" class=\"dataframe\">\n",
       "  <thead>\n",
       "    <tr style=\"text-align: right;\">\n",
       "      <th></th>\n",
       "      <th>sex</th>\n",
       "      <th>age_range</th>\n",
       "      <th>avg_hr</th>\n",
       "      <th>avg_int</th>\n",
       "    </tr>\n",
       "  </thead>\n",
       "  <tbody>\n",
       "    <tr>\n",
       "      <th>3</th>\n",
       "      <td>Male</td>\n",
       "      <td>60-69</td>\n",
       "      <td>8</td>\n",
       "      <td>14</td>\n",
       "    </tr>\n",
       "    <tr>\n",
       "      <th>4</th>\n",
       "      <td>Male</td>\n",
       "      <td>40-49</td>\n",
       "      <td>15</td>\n",
       "      <td>13</td>\n",
       "    </tr>\n",
       "    <tr>\n",
       "      <th>10</th>\n",
       "      <td>Male</td>\n",
       "      <td>40-49</td>\n",
       "      <td>6</td>\n",
       "      <td>6</td>\n",
       "    </tr>\n",
       "    <tr>\n",
       "      <th>13</th>\n",
       "      <td>Male</td>\n",
       "      <td>50-59</td>\n",
       "      <td>7</td>\n",
       "      <td>20</td>\n",
       "    </tr>\n",
       "    <tr>\n",
       "      <th>14</th>\n",
       "      <td>Male</td>\n",
       "      <td>60-69</td>\n",
       "      <td>14</td>\n",
       "      <td>25</td>\n",
       "    </tr>\n",
       "  </tbody>\n",
       "</table>\n",
       "</div>"
      ],
      "text/plain": [
       "     sex age_range  avg_hr  avg_int\n",
       "3   Male     60-69       8       14\n",
       "4   Male     40-49      15       13\n",
       "10  Male     40-49       6        6\n",
       "13  Male     50-59       7       20\n",
       "14  Male     60-69      14       25"
      ]
     },
     "execution_count": 16,
     "metadata": {},
     "output_type": "execute_result"
    }
   ],
   "source": [
    "male_defecation.head()"
   ]
  },
  {
   "cell_type": "code",
   "execution_count": 23,
   "metadata": {},
   "outputs": [
    {
     "data": {
      "text/plain": [
       "(array([ 13.,   3.,   1.,   0.,   1.,  13.,  75., 184., 114.,  70.,  62.,\n",
       "         43.,  17.,  33.,  24.,  21.,  23.,  21.,  26.,  25.,  23.,  16.,\n",
       "         18.,  13.]),\n",
       " array([ 0.        ,  0.95833333,  1.91666667,  2.875     ,  3.83333333,\n",
       "         4.79166667,  5.75      ,  6.70833333,  7.66666667,  8.625     ,\n",
       "         9.58333333, 10.54166667, 11.5       , 12.45833333, 13.41666667,\n",
       "        14.375     , 15.33333333, 16.29166667, 17.25      , 18.20833333,\n",
       "        19.16666667, 20.125     , 21.08333333, 22.04166667, 23.        ]),\n",
       " <a list of 24 Patch objects>)"
      ]
     },
     "execution_count": 23,
     "metadata": {},
     "output_type": "execute_result"
    },
    {
     "data": {
      "image/png": "[encoded data removed]",
      "text/plain": [
       "<Figure size 432x288 with 1 Axes>"
      ]
     },
     "metadata": {
      "needs_background": "light"
     },
     "output_type": "display_data"
    }
   ],
   "source": [
    "#Now let's compare these. We can graph the two histograms on the same chart to better visualize differences.\n",
    "#The color variable can be defined with most colors and the alpha variable dictates the translucency\n",
    "#Change the color to whatever you'd like (brown?) and alter the transparencies\n",
    "plt.hist(female_defecation['avg_hr'],color='red',alpha=0.5,bins=24)\n",
    "plt.hist(male_defecation['avg_hr'],color='blue',alpha=0.5,bins=24)"
   ]
  },
  {
   "cell_type": "code",
   "execution_count": 24,
   "metadata": {},
   "outputs": [
    {
     "data": {
      "text/plain": [
       "(array([  7.,   4.,   8.,   5.,   9.,  10.,   9.,   8.,  11.,  14.,  18.,\n",
       "         26.,  28.,  22.,  14.,  13.,  16.,  13.,  17.,  18.,  17.,  31.,\n",
       "        137., 193.,  38.,  20.,  14.,  13.,   8.,   6.,   6.,   5.,   5.,\n",
       "          4.,   6.,   4.,   3.,   1.,   2.,   2.,   1.,   1.,   1.,   1.,\n",
       "          2.,   3.,   3.,   5.,   8.,   3.,   3.,   0.,   1.,   0.,   2.,\n",
       "          1.,   1.,   2.,  16.]),\n",
       " array([ 1.        ,  1.98305085,  2.96610169,  3.94915254,  4.93220339,\n",
       "         5.91525424,  6.89830508,  7.88135593,  8.86440678,  9.84745763,\n",
       "        10.83050847, 11.81355932, 12.79661017, 13.77966102, 14.76271186,\n",
       "        15.74576271, 16.72881356, 17.71186441, 18.69491525, 19.6779661 ,\n",
       "        20.66101695, 21.6440678 , 22.62711864, 23.61016949, 24.59322034,\n",
       "        25.57627119, 26.55932203, 27.54237288, 28.52542373, 29.50847458,\n",
       "        30.49152542, 31.47457627, 32.45762712, 33.44067797, 34.42372881,\n",
       "        35.40677966, 36.38983051, 37.37288136, 38.3559322 , 39.33898305,\n",
       "        40.3220339 , 41.30508475, 42.28813559, 43.27118644, 44.25423729,\n",
       "        45.23728814, 46.22033898, 47.20338983, 48.18644068, 49.16949153,\n",
       "        50.15254237, 51.13559322, 52.11864407, 53.10169492, 54.08474576,\n",
       "        55.06779661, 56.05084746, 57.03389831, 58.01694915, 59.        ]),\n",
       " <a list of 59 Patch objects>)"
      ]
     },
     "execution_count": 24,
     "metadata": {},
     "output_type": "execute_result"
    },
    {
     "data": {
      "image/png": "[encoded data removed]",
      "text/plain": [
       "<Figure size 432x288 with 1 Axes>"
      ]
     },
     "metadata": {
      "needs_background": "light"
     },
     "output_type": "display_data"
    }
   ],
   "source": [
    "#Now, do the same with average interval between poops\n",
    "plt.hist(female_defecation['avg_int'],color='red',alpha=0.5,bins=59)\n",
    "plt.hist(male_defecation['avg_int'],color='blue',alpha=0.5,bins=59)"
   ]
  },
  {
   "cell_type": "code",
   "execution_count": null,
   "metadata": {},
   "outputs": [],
   "source": [
    "#What can you glean from these two graphs? \n",
    "#What is the most shocking aspect of these graphs?\n",
    "#What else can you look at? Age range? \n",
    "#See if you can squeeze a couple of these out."
   ]
  }
 ],
 "metadata": {
  "kernelspec": {
   "display_name": "Python 3",
   "language": "python",
   "name": "python3"
  },
  "language_info": {
   "codemirror_mode": {
    "name": "ipython",
    "version": 3
   },
   "file_extension": ".py",
   "mimetype": "text/x-python",
   "name": "python",
   "nbconvert_exporter": "python",
   "pygments_lexer": "ipython3",
   "version": "3.7.6"
  }
 },
 "nbformat": 4,
 "nbformat_minor": 4
}

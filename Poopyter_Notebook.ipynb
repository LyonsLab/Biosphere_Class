{
 "cells": [
  {
   "cell_type": "markdown",
   "metadata": {},
   "source": [
    "# Biosphere Class - Everybody Poops\n",
    "\n",
    "## Recommended reading:\n",
    "\n",
    "* **Science manuscript:** Heaton, K. W., Radvan, J., Cripps, H., Mountford, R. A., Braddon, F. E., & Hughes, A. O. (1992). Defecation frequency and timing, and stool form in the general population: a prospective study.  Gut, 33(6), 818-824. (https://www.ncbi.nlm.nih.gov/pmc/articles/PMC1379343/)\n",
    "* **For people new to the field:** https://www.amazon.com/Everyone-Poops-Body-Science-Paperback/dp/B00JYI9ZLY"
   ]
  },
  {
   "cell_type": "markdown",
   "metadata": {},
   "source": [
    "## Why collect data?\n",
    "One of the most essential parts of the scientific method comes after all of the data collection. After spending so much time and energy acquiring resources, performing experiments, and collecting data you'll want all of your work to be useful.  The only way it will be useful is if it allows you, the scientist, to discovery something novel.  This discovery needs to be communicated to the general scientific community in such a way that other people appreciate your work and how it may be used to improve our current understanding. This is the transformation of data to knowledge and wisdom. In order to gain this wisdom, you must display your data in a way that is understandable and demonstrates clearly the revelation your study provides."
   ]
  },
  {
   "cell_type": "markdown",
   "metadata": {},
   "source": [
    "## Background on dataset:\n",
    "In this example, we take data recreated from a 1992 study by Heaton et. al, from Bristol, England. It is the first large-scale collection of human dececation behavior.  It surveys ~1000 men and women about the timing and frequency of their poops.  Rather than asking people how often they poop (and if they have normal poops), they asked them to record three of their defecation events (time of day and characteristics of the event). \n",
    "\n",
    "In this exercise, you will use a recreated set of data from that studey and plot them to derive scientific insight. The two variables you will plot will be the time of day for a poop and the interval between poops. After these plots are generated, you will then derive scientific insights about human behavior.  These nuggets of insights may be interesting to both you and the broader scientific community. For some, perhaps this will generate wisdom that can lead to an improved human condition (or at least, make pooping time a bit more insightful).\n",
    "\n",
    "Let's get sharted."
   ]
  },
  {
   "cell_type": "markdown",
   "metadata": {},
   "source": [
    "## Welcome to Jupyter:\n",
    "\n",
    "For your data analysis, you will be using this Jupyter Notebook, which is an interactive way to write and run code (Python, in this case) in an interactive web page.  In addition, Jypyter will generate graphs and plots, and display them in your browser.\n",
    "\n",
    "When working in Jupyter, you can modify the code and text, and run a block (aka: cell) by holding the **shift key and pressing \"Enter\"**. For more information on learning to use Jupyter Notebooks: https://www.codecademy.com/articles/how-to-use-jupyter-notebooks"
   ]
  },
  {
   "cell_type": "markdown",
   "metadata": {},
   "source": [
    "## Loading libraries:\n",
    "\n",
    "This first block of code imports different libraries into your notebook. These libraries act like a cookbook. You can call a recipe (aka: function, method, subroutine) from the cookbook to have the computer do something for you.  Hoewever,  without access to the cookbook, your computer will be just as confused as you are. \n",
    "\n",
    "The first command, **import pandas** as pd, imports a library called \"pandas\", and tells your computer you'd like to refer to it as the shorter \"pd\". This just saves time and typing later.  Similarly, we import the **matplotlib** (math plot library) library.  However, we aren't going to import all of it, just the subsections related to pyplot, which is used for generating plots from data."
   ]
  },
  {
   "cell_type": "code",
   "execution_count": 42,
   "metadata": {},
   "outputs": [],
   "source": [
    "import pandas as pd\n",
    "import matplotlib.pyplot as plt\n",
    "%matplotlib inline"
   ]
  },
  {
   "cell_type": "markdown",
   "metadata": {},
   "source": [
    "## Loading your data:\n",
    "\n",
    "Using the pandas library you loaded in above, you can call a command to \"read\" a csv file and store the contents in a **variable** in your program. **CSV stands for \"comma separated values\"**.  The file \"defecation_data.csv\" contains data recreated data from the study. You, however, could name it whatever you'd like, such as \"turd_count.csv\" or \"pooping_data.csv\". You can similarly name the variable in which these data are loaded.  Here, we call it \"defecation_data\".  Since it is a CSV file, best practices means it should have the extension \".csv\". In addition, file names and variables should be informative and relatively short. Use a \"_\" in the name any time you would typically put a space.\n",
    "\n",
    "**Note**: we are using pandas to load the data from the CSV file and these data are stored in a Pandas DataFrame.  This data structure (also called an object) has several built in methods that can be called on the data to perform varous tasks such as calculating mean and standard deviation.  For a list of functions and features of a Pandas DataFrame see: https://pandas.pydata.org/pandas-docs/stable/reference/api/pandas.DataFrame.html (this is a programming reference, so may be difficult to read the first time you visit documentation like this.)"
   ]
  },
  {
   "cell_type": "code",
   "execution_count": 49,
   "metadata": {},
   "outputs": [],
   "source": [
    "defecation_data = pd.read_csv('defecation_data.csv')"
   ]
  },
  {
   "cell_type": "markdown",
   "metadata": {},
   "source": [
    "## Length of data in a variable:\n",
    "Once data are loaded in your program, you can perform tasks on those data.  For example, you can see how many elements of data there are.  This is done by calling \"len\" on the variable storing the data.  \"len\" stands for \"length\"."
   ]
  },
  {
   "cell_type": "code",
   "execution_count": 50,
   "metadata": {},
   "outputs": [
    {
     "data": {
      "text/plain": [
       "1898"
      ]
     },
     "execution_count": 50,
     "metadata": {},
     "output_type": "execute_result"
    }
   ],
   "source": [
    "len(defecation_data)"
   ]
  },
  {
   "cell_type": "markdown",
   "metadata": {},
   "source": [
    "## Preview your data in a variable:\n",
    "If you want to preview your data, but not scroll through all off it, you can use the Pandas 'head' command (https://pandas.pydata.org/pandas-docs/stable/reference/api/pandas.DataFrame.head.html). This will show you the first 5 data points of the dataset you've loaded in. Notice the column names. These are variable names that you can use to do analyses.\n",
    "\n",
    "When this is displayed, you will see the following column headers for your data:\n",
    "* participant_id:  anonymous identification number for an individual\n",
    "* sex: self-identified biological sex of the individual\n",
    "* age_range:  age range of the individual\n",
    "* hr:  time of defecation event rounded to nearest hour"
   ]
  },
  {
   "cell_type": "code",
   "execution_count": 51,
   "metadata": {},
   "outputs": [
    {
     "data": {
      "text/html": [
       "<div>\n",
       "<style scoped>\n",
       "    .dataframe tbody tr th:only-of-type {\n",
       "        vertical-align: middle;\n",
       "    }\n",
       "\n",
       "    .dataframe tbody tr th {\n",
       "        vertical-align: top;\n",
       "    }\n",
       "\n",
       "    .dataframe thead th {\n",
       "        text-align: right;\n",
       "    }\n",
       "</style>\n",
       "<table border=\"1\" class=\"dataframe\">\n",
       "  <thead>\n",
       "    <tr style=\"text-align: right;\">\n",
       "      <th></th>\n",
       "      <th>sex</th>\n",
       "      <th>age_range</th>\n",
       "      <th>avg_hr</th>\n",
       "      <th>avg_int</th>\n",
       "    </tr>\n",
       "  </thead>\n",
       "  <tbody>\n",
       "    <tr>\n",
       "      <th>0</th>\n",
       "      <td>Female</td>\n",
       "      <td>30-39</td>\n",
       "      <td>6</td>\n",
       "      <td>24</td>\n",
       "    </tr>\n",
       "    <tr>\n",
       "      <th>1</th>\n",
       "      <td>Female</td>\n",
       "      <td>50-59</td>\n",
       "      <td>10</td>\n",
       "      <td>6</td>\n",
       "    </tr>\n",
       "    <tr>\n",
       "      <th>2</th>\n",
       "      <td>Female</td>\n",
       "      <td>25-29</td>\n",
       "      <td>19</td>\n",
       "      <td>25</td>\n",
       "    </tr>\n",
       "    <tr>\n",
       "      <th>3</th>\n",
       "      <td>Male</td>\n",
       "      <td>60-69</td>\n",
       "      <td>8</td>\n",
       "      <td>14</td>\n",
       "    </tr>\n",
       "    <tr>\n",
       "      <th>4</th>\n",
       "      <td>Male</td>\n",
       "      <td>40-49</td>\n",
       "      <td>15</td>\n",
       "      <td>13</td>\n",
       "    </tr>\n",
       "  </tbody>\n",
       "</table>\n",
       "</div>"
      ],
      "text/plain": [
       "      sex age_range  avg_hr  avg_int\n",
       "0  Female     30-39       6       24\n",
       "1  Female     50-59      10        6\n",
       "2  Female     25-29      19       25\n",
       "3    Male     60-69       8       14\n",
       "4    Male     40-49      15       13"
      ]
     },
     "execution_count": 51,
     "metadata": {},
     "output_type": "execute_result"
    }
   ],
   "source": [
    "defecation_data.head()"
   ]
  },
  {
   "cell_type": "markdown",
   "metadata": {},
   "source": [
    "## View summary statistics for your data:\n",
    "\n",
    "Pandas has a built in function for DataFrames that generate summary statistics called **describe**: https://pandas.pydata.org/pandas-docs/stable/reference/api/pandas.DataFrame.describe.html\n",
    "\n",
    "This is a useful function to quickly review your data."
   ]
  },
  {
   "cell_type": "code",
   "execution_count": 52,
   "metadata": {},
   "outputs": [
    {
     "data": {
      "text/html": [
       "<div>\n",
       "<style scoped>\n",
       "    .dataframe tbody tr th:only-of-type {\n",
       "        vertical-align: middle;\n",
       "    }\n",
       "\n",
       "    .dataframe tbody tr th {\n",
       "        vertical-align: top;\n",
       "    }\n",
       "\n",
       "    .dataframe thead th {\n",
       "        text-align: right;\n",
       "    }\n",
       "</style>\n",
       "<table border=\"1\" class=\"dataframe\">\n",
       "  <thead>\n",
       "    <tr style=\"text-align: right;\">\n",
       "      <th></th>\n",
       "      <th>avg_hr</th>\n",
       "      <th>avg_int</th>\n",
       "    </tr>\n",
       "  </thead>\n",
       "  <tbody>\n",
       "    <tr>\n",
       "      <th>count</th>\n",
       "      <td>1898.000000</td>\n",
       "      <td>1898.000000</td>\n",
       "    </tr>\n",
       "    <tr>\n",
       "      <th>mean</th>\n",
       "      <td>10.807165</td>\n",
       "      <td>24.814542</td>\n",
       "    </tr>\n",
       "    <tr>\n",
       "      <th>std</th>\n",
       "      <td>5.006344</td>\n",
       "      <td>11.608095</td>\n",
       "    </tr>\n",
       "    <tr>\n",
       "      <th>min</th>\n",
       "      <td>0.000000</td>\n",
       "      <td>1.000000</td>\n",
       "    </tr>\n",
       "    <tr>\n",
       "      <th>25%</th>\n",
       "      <td>7.000000</td>\n",
       "      <td>20.000000</td>\n",
       "    </tr>\n",
       "    <tr>\n",
       "      <th>50%</th>\n",
       "      <td>9.000000</td>\n",
       "      <td>24.000000</td>\n",
       "    </tr>\n",
       "    <tr>\n",
       "      <th>75%</th>\n",
       "      <td>13.000000</td>\n",
       "      <td>26.000000</td>\n",
       "    </tr>\n",
       "    <tr>\n",
       "      <th>max</th>\n",
       "      <td>23.000000</td>\n",
       "      <td>59.000000</td>\n",
       "    </tr>\n",
       "  </tbody>\n",
       "</table>\n",
       "</div>"
      ],
      "text/plain": [
       "            avg_hr      avg_int\n",
       "count  1898.000000  1898.000000\n",
       "mean     10.807165    24.814542\n",
       "std       5.006344    11.608095\n",
       "min       0.000000     1.000000\n",
       "25%       7.000000    20.000000\n",
       "50%       9.000000    24.000000\n",
       "75%      13.000000    26.000000\n",
       "max      23.000000    59.000000"
      ]
     },
     "execution_count": 52,
     "metadata": {},
     "output_type": "execute_result"
    }
   ],
   "source": [
    "defecation_data.describe()"
   ]
  },
  {
   "cell_type": "markdown",
   "metadata": {},
   "source": [
    "## Intepreting statistics:\n",
    "Looking at the mean, median, quartiles and range can help inform you, at a glance, of what your data may be suggesting. For instance, the mean interval appears to be around 24 hours, suggesting a daily poop cycle. However, note that there is a standard deviation of 11.6 hours, which indicates that there is a lot of variation for how frequently an individual person poops."
   ]
  },
  {
   "cell_type": "markdown",
   "metadata": {},
   "source": [
    "## Plotting your data:\n",
    "Next, we can create a histogram to get a better visual of each of the variables. Let's start with avg_hr to see what time of day most people poop. There is seveal lines of python code to make the plot, and you are welcome to modify it to change the histogram."
   ]
  },
  {
   "cell_type": "code",
   "execution_count": 53,
   "metadata": {},
   "outputs": [
    {
     "data": {
      "text/plain": [
       "<function matplotlib.pyplot.show(*args, **kw)>"
      ]
     },
     "execution_count": 53,
     "metadata": {},
     "output_type": "execute_result"
    },
    {
     "data": {
      "image/png": "[encoded data removed]",
      "text/plain": [
       "<Figure size 800x400 with 1 Axes>"
      ]
     },
     "metadata": {
      "needs_background": "light"
     },
     "output_type": "display_data"
    }
   ],
   "source": [
    "# Set up figure, make image size larger\n",
    "plt.figure(figsize=(8,4), dpi=100)\n",
    "\n",
    "# Need the bins for the histogram\n",
    "hours = [0,1,2,3,4,5,6,7,8,9,10,11,12,13,14,15,16,17,18,19,20,21,22,23,24]\n",
    "\n",
    "# Populate the histogram with data\n",
    "plt.hist(defecation_data['avg_hr'], bins=hours, rwidth=.9)\n",
    "\n",
    "# To make the plot a bit more polished, we will add a title, and labels to the x and y axes.\n",
    "plt.title(\"Average Time of Day of Defecation Event (Female and Male)\")\n",
    "plt.xlabel('Hour of Defecation (24:00)')\n",
    "plt.xticks(ticks=hours,labels=hours)\n",
    "plt.ylabel('Number of Participants')\n",
    "\n",
    "# plt.show is the only command that will actually generate an output. \n",
    "plt.show"
   ]
  },
  {
   "cell_type": "markdown",
   "metadata": {},
   "source": [
    "## What can you inferred from this data?\n",
    "\n",
    "Now we can visualize the distribution of the time of day this population has a defectation event.  Once data are visualized, you can make inferences and predictions.  The first thing you should do is ask yourself basic questions:\n",
    "\n",
    "* Does this make sense to you?\n",
    "* Is this consistent with your personal experience?\n",
    "\n",
    "Now, consider the summary statistics from above in relation to this histogram.   The mean (average) time you calculated for when a person poops is around 10:45 in the morning. \n",
    "\n",
    "* Why is that the number the same or different than what you infer from the histogram above?  \n",
    "* What does that tell you about calculating \"means\"?  \n",
    "* Are means and standard deviations always meaningful and insightful?"
   ]
  },
  {
   "cell_type": "markdown",
   "metadata": {},
   "source": [
    "## Digger deeper into the data\n",
    "The data surveyed females and males (the only sexes recognized in Bristol, UK in 1992.  We've come a long way.) Now, there may be more nuggets of insight to be gleaned. For instance:\n",
    "* Is pooping behavior the same for females and males?\n",
    "* Do females and men poop at different times of the day? \n",
    "\n",
    "To examine these differences, lets cut this log into two separate lumps, one for females and one for males. First, let's make sure the variable \"sex\" is represented as we expect."
   ]
  },
  {
   "cell_type": "code",
   "execution_count": 15,
   "metadata": {},
   "outputs": [
    {
     "name": "stdout",
     "output_type": "stream",
     "text": [
      "Female    1059\n",
      "Male       839\n",
      "Name: sex, dtype: int64\n"
     ]
    }
   ],
   "source": [
    "print(defecation_data.sex.value_counts())"
   ]
  },
  {
   "cell_type": "code",
   "execution_count": 16,
   "metadata": {},
   "outputs": [],
   "source": [
    "# There are more females than males in our data set.  "
   ]
  },
  {
   "cell_type": "code",
   "execution_count": 17,
   "metadata": {},
   "outputs": [],
   "source": [
    "# To make handling the data a bit easier, we will create two datasets, one for Female and one for Male: "
   ]
  },
  {
   "cell_type": "code",
   "execution_count": 18,
   "metadata": {},
   "outputs": [],
   "source": [
    "# We can create two separate datasets. \n",
    "female_defecation = defecation_data[defecation_data['sex'] == 'Female']\n",
    "male_defecation = defecation_data[defecation_data['sex'] == 'Male']"
   ]
  },
  {
   "cell_type": "code",
   "execution_count": 19,
   "metadata": {},
   "outputs": [],
   "source": [
    "# As we did with the whole dataset, we can get summary statistics on each of these:"
   ]
  },
  {
   "cell_type": "code",
   "execution_count": 20,
   "metadata": {},
   "outputs": [
    {
     "data": {
      "text/html": [
       "<div>\n",
       "<style scoped>\n",
       "    .dataframe tbody tr th:only-of-type {\n",
       "        vertical-align: middle;\n",
       "    }\n",
       "\n",
       "    .dataframe tbody tr th {\n",
       "        vertical-align: top;\n",
       "    }\n",
       "\n",
       "    .dataframe thead th {\n",
       "        text-align: right;\n",
       "    }\n",
       "</style>\n",
       "<table border=\"1\" class=\"dataframe\">\n",
       "  <thead>\n",
       "    <tr style=\"text-align: right;\">\n",
       "      <th></th>\n",
       "      <th>avg_hr</th>\n",
       "      <th>avg_int</th>\n",
       "    </tr>\n",
       "  </thead>\n",
       "  <tbody>\n",
       "    <tr>\n",
       "      <th>count</th>\n",
       "      <td>1059.000000</td>\n",
       "      <td>1059.000000</td>\n",
       "    </tr>\n",
       "    <tr>\n",
       "      <th>mean</th>\n",
       "      <td>10.974504</td>\n",
       "      <td>26.643059</td>\n",
       "    </tr>\n",
       "    <tr>\n",
       "      <th>std</th>\n",
       "      <td>5.008340</td>\n",
       "      <td>12.135151</td>\n",
       "    </tr>\n",
       "    <tr>\n",
       "      <th>min</th>\n",
       "      <td>0.000000</td>\n",
       "      <td>1.000000</td>\n",
       "    </tr>\n",
       "    <tr>\n",
       "      <th>25%</th>\n",
       "      <td>8.000000</td>\n",
       "      <td>22.000000</td>\n",
       "    </tr>\n",
       "    <tr>\n",
       "      <th>50%</th>\n",
       "      <td>9.000000</td>\n",
       "      <td>26.000000</td>\n",
       "    </tr>\n",
       "    <tr>\n",
       "      <th>75%</th>\n",
       "      <td>13.000000</td>\n",
       "      <td>28.000000</td>\n",
       "    </tr>\n",
       "    <tr>\n",
       "      <th>max</th>\n",
       "      <td>23.000000</td>\n",
       "      <td>59.000000</td>\n",
       "    </tr>\n",
       "  </tbody>\n",
       "</table>\n",
       "</div>"
      ],
      "text/plain": [
       "            avg_hr      avg_int\n",
       "count  1059.000000  1059.000000\n",
       "mean     10.974504    26.643059\n",
       "std       5.008340    12.135151\n",
       "min       0.000000     1.000000\n",
       "25%       8.000000    22.000000\n",
       "50%       9.000000    26.000000\n",
       "75%      13.000000    28.000000\n",
       "max      23.000000    59.000000"
      ]
     },
     "execution_count": 20,
     "metadata": {},
     "output_type": "execute_result"
    }
   ],
   "source": [
    "female_defecation.describe()"
   ]
  },
  {
   "cell_type": "code",
   "execution_count": 21,
   "metadata": {},
   "outputs": [
    {
     "data": {
      "text/html": [
       "<div>\n",
       "<style scoped>\n",
       "    .dataframe tbody tr th:only-of-type {\n",
       "        vertical-align: middle;\n",
       "    }\n",
       "\n",
       "    .dataframe tbody tr th {\n",
       "        vertical-align: top;\n",
       "    }\n",
       "\n",
       "    .dataframe thead th {\n",
       "        text-align: right;\n",
       "    }\n",
       "</style>\n",
       "<table border=\"1\" class=\"dataframe\">\n",
       "  <thead>\n",
       "    <tr style=\"text-align: right;\">\n",
       "      <th></th>\n",
       "      <th>avg_hr</th>\n",
       "      <th>avg_int</th>\n",
       "    </tr>\n",
       "  </thead>\n",
       "  <tbody>\n",
       "    <tr>\n",
       "      <th>count</th>\n",
       "      <td>839.000000</td>\n",
       "      <td>839.000000</td>\n",
       "    </tr>\n",
       "    <tr>\n",
       "      <th>mean</th>\n",
       "      <td>10.595948</td>\n",
       "      <td>22.506555</td>\n",
       "    </tr>\n",
       "    <tr>\n",
       "      <th>std</th>\n",
       "      <td>4.998810</td>\n",
       "      <td>10.466660</td>\n",
       "    </tr>\n",
       "    <tr>\n",
       "      <th>min</th>\n",
       "      <td>0.000000</td>\n",
       "      <td>1.000000</td>\n",
       "    </tr>\n",
       "    <tr>\n",
       "      <th>25%</th>\n",
       "      <td>7.000000</td>\n",
       "      <td>17.000000</td>\n",
       "    </tr>\n",
       "    <tr>\n",
       "      <th>50%</th>\n",
       "      <td>9.000000</td>\n",
       "      <td>23.000000</td>\n",
       "    </tr>\n",
       "    <tr>\n",
       "      <th>75%</th>\n",
       "      <td>13.500000</td>\n",
       "      <td>24.000000</td>\n",
       "    </tr>\n",
       "    <tr>\n",
       "      <th>max</th>\n",
       "      <td>23.000000</td>\n",
       "      <td>59.000000</td>\n",
       "    </tr>\n",
       "  </tbody>\n",
       "</table>\n",
       "</div>"
      ],
      "text/plain": [
       "           avg_hr     avg_int\n",
       "count  839.000000  839.000000\n",
       "mean    10.595948   22.506555\n",
       "std      4.998810   10.466660\n",
       "min      0.000000    1.000000\n",
       "25%      7.000000   17.000000\n",
       "50%      9.000000   23.000000\n",
       "75%     13.500000   24.000000\n",
       "max     23.000000   59.000000"
      ]
     },
     "execution_count": 21,
     "metadata": {},
     "output_type": "execute_result"
    }
   ],
   "source": [
    "male_defecation.describe()"
   ]
  },
  {
   "cell_type": "code",
   "execution_count": 22,
   "metadata": {},
   "outputs": [],
   "source": [
    "# Overall, the statistics appear similar, but let's look at the distributions"
   ]
  },
  {
   "cell_type": "code",
   "execution_count": 23,
   "metadata": {},
   "outputs": [
    {
     "data": {
      "text/plain": [
       "<function matplotlib.pyplot.show(*args, **kw)>"
      ]
     },
     "execution_count": 23,
     "metadata": {},
     "output_type": "execute_result"
    },
    {
     "data": {
      "image/png": "[encoded data removed]",
      "text/plain": [
       "<Figure size 800x400 with 1 Axes>"
      ]
     },
     "metadata": {
      "needs_background": "light"
     },
     "output_type": "display_data"
    },
    {
     "data": {
      "image/png": "[encoded data removed]",
      "text/plain": [
       "<Figure size 800x400 with 1 Axes>"
      ]
     },
     "metadata": {
      "needs_background": "light"
     },
     "output_type": "display_data"
    }
   ],
   "source": [
    "############################\n",
    "# Female data histogram\n",
    "############################\n",
    "\n",
    "# Set up figure, make image size larger\n",
    "plt.figure(figsize=(8,4), dpi=100)\n",
    "\n",
    "# Need the bins for the histogram\n",
    "hours = [0,1,2,3,4,5,6,7,8,9,10,11,12,13,14,15,16,17,18,19,20,21,22,23,24]\n",
    "\n",
    "# Populate the histogram with data\n",
    "plt.hist(female_defecation['avg_hr'], bins=hours, rwidth=.9)\n",
    "\n",
    "# To make the plot a bit more polished, we will add a title, and labels to the x and y axes.\n",
    "plt.title(\"Average Time of Day of Defecation Event (Female)\")\n",
    "plt.xlabel('Hour of Defecation (24:00)')\n",
    "plt.xticks(ticks=hours,labels=hours)\n",
    "plt.ylabel('Number of Participants')\n",
    "\n",
    "# plt.show is the only command that will actually generate an output. \n",
    "plt.show\n",
    "\n",
    "############################\n",
    "# Male data histogram\n",
    "############################\n",
    "\n",
    "# Set up figure, make image size larger\n",
    "plt.figure(figsize=(8,4), dpi=100)\n",
    "\n",
    "# Need the bins for the histogram\n",
    "hours = [0,1,2,3,4,5,6,7,8,9,10,11,12,13,14,15,16,17,18,19,20,21,22,23,24]\n",
    "\n",
    "# Populate the histogram with data\n",
    "plt.hist(male_defecation['avg_hr'], bins=hours, rwidth=.9)\n",
    "\n",
    "# To make the plot a bit more polished, we will add a title, and labels to the x and y axes.\n",
    "plt.title(\"Average Time of Day of Defecation Event (Male)\")\n",
    "plt.xlabel('Hour of Defecation (24:00)')\n",
    "plt.xticks(ticks=hours,labels=hours)\n",
    "plt.ylabel('Number of Participants')\n",
    "\n",
    "# plt.show is the only command that will actually generate an output. \n",
    "plt.show"
   ]
  },
  {
   "cell_type": "code",
   "execution_count": 24,
   "metadata": {},
   "outputs": [],
   "source": [
    "# There appears to be differences.  Females have peak pooping around 8am, while males peak their number 2 around 7am.\n",
    "#  Let's squeeze these data and plot them together to better visualize the pattern"
   ]
  },
  {
   "cell_type": "code",
   "execution_count": 25,
   "metadata": {},
   "outputs": [
    {
     "data": {
      "text/plain": [
       "<function matplotlib.pyplot.show(*args, **kw)>"
      ]
     },
     "execution_count": 25,
     "metadata": {},
     "output_type": "execute_result"
    },
    {
     "data": {
      "image/png": "[encoded data removed]",
      "text/plain": [
       "<Figure size 800x400 with 1 Axes>"
      ]
     },
     "metadata": {
      "needs_background": "light"
     },
     "output_type": "display_data"
    }
   ],
   "source": [
    "# Overlay both female and male data histogram\n",
    "# Set up figure, make image size larger\n",
    "plt.figure(figsize=(8,4), dpi=100)\n",
    "\n",
    "# Need the bins for the histogram\n",
    "hours = [0,1,2,3,4,5,6,7,8,9,10,11,12,13,14,15,16,17,18,19,20,21,22,23,24]\n",
    "\n",
    "# Populate the histogram with data\n",
    "plt.hist(female_defecation['avg_hr'],color='red',alpha=0.5,bins=hours, rwidth=.9)\n",
    "plt.hist(male_defecation['avg_hr'],color='blue',alpha=0.5,bins=hours, rwidth=.9)\n",
    "\n",
    "# To make the plot a bit more polished, we will add a title, and labels to the x and y axes.\n",
    "plt.title(\"Average Time of Day of Defecation Event (Female)\")\n",
    "plt.xlabel('Hour of Defecation (24:00)')\n",
    "plt.xticks(ticks=hours,labels=hours)\n",
    "plt.ylabel('Number of Participants')\n",
    "\n",
    "# plt.show is the only command that will actually generate an output. \n",
    "plt.show\n"
   ]
  },
  {
   "cell_type": "code",
   "execution_count": 26,
   "metadata": {},
   "outputs": [],
   "source": [
    "# While this makes the pattern easier to see, it is important to remember that there are more female data points.\n",
    "# Let's normalize the data within each sex so that the difference in the number of participants doesn't smear the\n",
    "# pattern we wish to observe."
   ]
  },
  {
   "cell_type": "code",
   "execution_count": 28,
   "metadata": {},
   "outputs": [
    {
     "data": {
      "text/plain": [
       "<function matplotlib.pyplot.show(*args, **kw)>"
      ]
     },
     "execution_count": 28,
     "metadata": {},
     "output_type": "execute_result"
    },
    {
     "data": {
      "image/png": "[encoded data removed]",
      "text/plain": [
       "<Figure size 800x400 with 1 Axes>"
      ]
     },
     "metadata": {
      "needs_background": "light"
     },
     "output_type": "display_data"
    }
   ],
   "source": [
    "# Overlay both female and male data histogram\n",
    "# Set up figure, make image size larger\n",
    "plt.figure(figsize=(8,4), dpi=100)\n",
    "\n",
    "# Need the bins for the histogram\n",
    "hours = [0,1,2,3,4,5,6,7,8,9,10,11,12,13,14,15,16,17,18,19,20,21,22,23,24]\n",
    "\n",
    "# Populate the histogram with data\n",
    "plt.hist(female_defecation['avg_hr'],color='red',alpha=0.5,bins=hours, rwidth=.9, density=True)\n",
    "plt.hist(male_defecation['avg_hr'],color='blue',alpha=0.5,bins=hours, rwidth=.9, density=True)\n",
    "\n",
    "# To make the plot a bit more polished, we will add a title, and labels to the x and y axes.\n",
    "plt.title(\"Average Time of Day of Defecation Event (Female)\")\n",
    "plt.xlabel('Hour of Defecation (24:00)')\n",
    "plt.xticks(ticks=hours,labels=hours)\n",
    "plt.ylabel('Number of Participants')\n",
    "\n",
    "# plt.show is the only command that will actually generate an output. \n",
    "plt.show"
   ]
  },
  {
   "cell_type": "code",
   "execution_count": 29,
   "metadata": {},
   "outputs": [],
   "source": [
    "# Propose hypotheses to explain the following:\n",
    "\n",
    "# Why are so few people pooping from 1:00-5:00?\n",
    "# Why are there a greater frequency of males pooping earlier in the morning than females?\n",
    "# Why are there an increase frequency of males pooping around 13:00?\n",
    "# Why are there more females pooping than males from 21:00-24:00?"
   ]
  },
  {
   "cell_type": "code",
   "execution_count": null,
   "metadata": {},
   "outputs": [],
   "source": [
    "# One thing scientists do with survey data from a limited number of people is make generalizations for \n",
    "# everyone.  We are going to load the demographics information for this data set and see what is known\n",
    "# about the participants"
   ]
  },
  {
   "cell_type": "code",
   "execution_count": 39,
   "metadata": {},
   "outputs": [
    {
     "name": "stdout",
     "output_type": "stream",
     "text": [
      "     sex  25-29  30-39  40-49  60-69  all_ages\n",
      "0    men      0      0    430    182       838\n",
      "1  women    305    328    199     84      1059\n"
     ]
    }
   ],
   "source": [
    "pop_data = pd.read_csv('pop_dem.csv')\n",
    "print(pop_data)"
   ]
  },
  {
   "cell_type": "code",
   "execution_count": null,
   "metadata": {},
   "outputs": [],
   "source": [
    "# As you review these demographics, keep in mind the following additional information:\n",
    "# - Information was collected from East Bristol, UK in 1992\n",
    "# - Each person reported three, sequentional defecation events\n",
    "\n",
    "# Give that information, answer these questions:\n",
    "# \n",
    "# Do you feel you are represented in this demographic?\n",
    "# Do you feel that conclusions drawn from these data are relevant to you?\n",
    "# What would you do, if anything, to generate a more inclusive dataset?\n",
    "# Does this invalidate the entire dataset and conclusions, or is there still value in these data? "
   ]
  },
  {
   "cell_type": "code",
   "execution_count": null,
   "metadata": {},
   "outputs": [],
   "source": [
    "### CURRENT END ... working here for update information"
   ]
  },
  {
   "cell_type": "code",
   "execution_count": null,
   "metadata": {},
   "outputs": [],
   "source": []
  },
  {
   "cell_type": "code",
   "execution_count": 30,
   "metadata": {},
   "outputs": [
    {
     "data": {
      "text/plain": [
       "<function matplotlib.pyplot.show(*args, **kw)>"
      ]
     },
     "execution_count": 30,
     "metadata": {},
     "output_type": "execute_result"
    },
    {
     "data": {
      "image/png": "[encoded data removed]",
      "text/plain": [
       "<Figure size 432x288 with 1 Axes>"
      ]
     },
     "metadata": {
      "needs_background": "light"
     },
     "output_type": "display_data"
    }
   ],
   "source": [
    "#Now, with average interval. The largest interval measured was 59 hours.\n",
    "plt.hist(defecation_data['avg_int'],bins=60)\n",
    "plt.title(\"Average Interval Between Defecations Across Sex\")\n",
    "plt.xlabel('Time Between Defecating')\n",
    "plt.ylabel('Number of Participants')\n",
    "plt.show"
   ]
  },
  {
   "cell_type": "code",
   "execution_count": 31,
   "metadata": {},
   "outputs": [
    {
     "name": "stdout",
     "output_type": "stream",
     "text": [
      "Female    1059\n",
      "Male       839\n",
      "Name: sex, dtype: int64\n"
     ]
    }
   ],
   "source": [
    "#Now, there are even more nuggets of wisdom to be gained from this data set. For instance, we can\n",
    "#examine the difference in pooping schedules between Males and Females, the only sexes recognized \n",
    "#in Bristol in 1992. We've come a long way.\n",
    "#To examine these differences, lets pinch this dataset into 2 separate vessels\n",
    "#Let's make sure the variable \"sex\" is represented as we expect\n",
    "print(defecation_data.sex.value_counts())"
   ]
  },
  {
   "cell_type": "code",
   "execution_count": 32,
   "metadata": {},
   "outputs": [],
   "source": [
    "#Now that we know the only two options for sex are 'Female' and 'Male' (get it together, Heaton)\n",
    "#we can create two separate datasets. Again, feel free to get creative with naming these.\n",
    "female_defecation = defecation_data[defecation_data['sex'] == 'Female']\n",
    "male_defecation = defecation_data[defecation_data['sex'] == 'Male']"
   ]
  },
  {
   "cell_type": "code",
   "execution_count": 33,
   "metadata": {},
   "outputs": [
    {
     "data": {
      "text/html": [
       "<div>\n",
       "<style scoped>\n",
       "    .dataframe tbody tr th:only-of-type {\n",
       "        vertical-align: middle;\n",
       "    }\n",
       "\n",
       "    .dataframe tbody tr th {\n",
       "        vertical-align: top;\n",
       "    }\n",
       "\n",
       "    .dataframe thead th {\n",
       "        text-align: right;\n",
       "    }\n",
       "</style>\n",
       "<table border=\"1\" class=\"dataframe\">\n",
       "  <thead>\n",
       "    <tr style=\"text-align: right;\">\n",
       "      <th></th>\n",
       "      <th>sex</th>\n",
       "      <th>age_range</th>\n",
       "      <th>avg_hr</th>\n",
       "      <th>avg_int</th>\n",
       "    </tr>\n",
       "  </thead>\n",
       "  <tbody>\n",
       "    <tr>\n",
       "      <th>0</th>\n",
       "      <td>Female</td>\n",
       "      <td>30-39</td>\n",
       "      <td>6</td>\n",
       "      <td>24</td>\n",
       "    </tr>\n",
       "    <tr>\n",
       "      <th>1</th>\n",
       "      <td>Female</td>\n",
       "      <td>50-59</td>\n",
       "      <td>10</td>\n",
       "      <td>6</td>\n",
       "    </tr>\n",
       "    <tr>\n",
       "      <th>2</th>\n",
       "      <td>Female</td>\n",
       "      <td>25-29</td>\n",
       "      <td>19</td>\n",
       "      <td>25</td>\n",
       "    </tr>\n",
       "    <tr>\n",
       "      <th>5</th>\n",
       "      <td>Female</td>\n",
       "      <td>30-39</td>\n",
       "      <td>7</td>\n",
       "      <td>22</td>\n",
       "    </tr>\n",
       "    <tr>\n",
       "      <th>6</th>\n",
       "      <td>Female</td>\n",
       "      <td>50-59</td>\n",
       "      <td>11</td>\n",
       "      <td>48</td>\n",
       "    </tr>\n",
       "  </tbody>\n",
       "</table>\n",
       "</div>"
      ],
      "text/plain": [
       "      sex age_range  avg_hr  avg_int\n",
       "0  Female     30-39       6       24\n",
       "1  Female     50-59      10        6\n",
       "2  Female     25-29      19       25\n",
       "5  Female     30-39       7       22\n",
       "6  Female     50-59      11       48"
      ]
     },
     "execution_count": 33,
     "metadata": {},
     "output_type": "execute_result"
    }
   ],
   "source": [
    "#Again, check the previews of the dataframes, groundhogging, if you will\n",
    "female_defecation.head()"
   ]
  },
  {
   "cell_type": "code",
   "execution_count": 34,
   "metadata": {},
   "outputs": [
    {
     "data": {
      "text/html": [
       "<div>\n",
       "<style scoped>\n",
       "    .dataframe tbody tr th:only-of-type {\n",
       "        vertical-align: middle;\n",
       "    }\n",
       "\n",
       "    .dataframe tbody tr th {\n",
       "        vertical-align: top;\n",
       "    }\n",
       "\n",
       "    .dataframe thead th {\n",
       "        text-align: right;\n",
       "    }\n",
       "</style>\n",
       "<table border=\"1\" class=\"dataframe\">\n",
       "  <thead>\n",
       "    <tr style=\"text-align: right;\">\n",
       "      <th></th>\n",
       "      <th>sex</th>\n",
       "      <th>age_range</th>\n",
       "      <th>avg_hr</th>\n",
       "      <th>avg_int</th>\n",
       "    </tr>\n",
       "  </thead>\n",
       "  <tbody>\n",
       "    <tr>\n",
       "      <th>3</th>\n",
       "      <td>Male</td>\n",
       "      <td>60-69</td>\n",
       "      <td>8</td>\n",
       "      <td>14</td>\n",
       "    </tr>\n",
       "    <tr>\n",
       "      <th>4</th>\n",
       "      <td>Male</td>\n",
       "      <td>40-49</td>\n",
       "      <td>15</td>\n",
       "      <td>13</td>\n",
       "    </tr>\n",
       "    <tr>\n",
       "      <th>10</th>\n",
       "      <td>Male</td>\n",
       "      <td>40-49</td>\n",
       "      <td>6</td>\n",
       "      <td>6</td>\n",
       "    </tr>\n",
       "    <tr>\n",
       "      <th>13</th>\n",
       "      <td>Male</td>\n",
       "      <td>50-59</td>\n",
       "      <td>7</td>\n",
       "      <td>20</td>\n",
       "    </tr>\n",
       "    <tr>\n",
       "      <th>14</th>\n",
       "      <td>Male</td>\n",
       "      <td>60-69</td>\n",
       "      <td>14</td>\n",
       "      <td>25</td>\n",
       "    </tr>\n",
       "  </tbody>\n",
       "</table>\n",
       "</div>"
      ],
      "text/plain": [
       "     sex age_range  avg_hr  avg_int\n",
       "3   Male     60-69       8       14\n",
       "4   Male     40-49      15       13\n",
       "10  Male     40-49       6        6\n",
       "13  Male     50-59       7       20\n",
       "14  Male     60-69      14       25"
      ]
     },
     "execution_count": 34,
     "metadata": {},
     "output_type": "execute_result"
    }
   ],
   "source": [
    "male_defecation.head()"
   ]
  },
  {
   "cell_type": "code",
   "execution_count": 35,
   "metadata": {},
   "outputs": [
    {
     "data": {
      "text/plain": [
       "(array([ 13.,   3.,   1.,   0.,   1.,  13.,  75., 184., 114.,  70.,  62.,\n",
       "         43.,  17.,  33.,  24.,  21.,  23.,  21.,  26.,  25.,  23.,  16.,\n",
       "         18.,  13.]),\n",
       " array([ 0.        ,  0.95833333,  1.91666667,  2.875     ,  3.83333333,\n",
       "         4.79166667,  5.75      ,  6.70833333,  7.66666667,  8.625     ,\n",
       "         9.58333333, 10.54166667, 11.5       , 12.45833333, 13.41666667,\n",
       "        14.375     , 15.33333333, 16.29166667, 17.25      , 18.20833333,\n",
       "        19.16666667, 20.125     , 21.08333333, 22.04166667, 23.        ]),\n",
       " <a list of 24 Patch objects>)"
      ]
     },
     "execution_count": 35,
     "metadata": {},
     "output_type": "execute_result"
    },
    {
     "data": {
      "image/png": "[encoded data removed]",
      "text/plain": [
       "<Figure size 432x288 with 1 Axes>"
      ]
     },
     "metadata": {
      "needs_background": "light"
     },
     "output_type": "display_data"
    }
   ],
   "source": [
    "#Now let's compare these. We can graph the two histograms on the same chart to better visualize differences.\n",
    "#The color variable can be defined with most colors and the alpha variable dictates the translucency\n",
    "#Change the color to whatever you'd like (brown?) and alter the transparencies\n",
    "plt.hist(female_defecation['avg_hr'],color='red',alpha=0.5,bins=24)\n",
    "plt.hist(male_defecation['avg_hr'],color='blue',alpha=0.5,bins=24)"
   ]
  },
  {
   "cell_type": "code",
   "execution_count": 36,
   "metadata": {},
   "outputs": [
    {
     "data": {
      "text/plain": [
       "(array([  7.,   4.,   8.,   5.,   9.,  10.,   9.,   8.,  11.,  14.,  18.,\n",
       "         26.,  28.,  22.,  14.,  13.,  16.,  13.,  17.,  18.,  17.,  31.,\n",
       "        137., 193.,  38.,  20.,  14.,  13.,   8.,   6.,   6.,   5.,   5.,\n",
       "          4.,   6.,   4.,   3.,   1.,   2.,   2.,   1.,   1.,   1.,   1.,\n",
       "          2.,   3.,   3.,   5.,   8.,   3.,   3.,   0.,   1.,   0.,   2.,\n",
       "          1.,   1.,   2.,  16.]),\n",
       " array([ 1.        ,  1.98305085,  2.96610169,  3.94915254,  4.93220339,\n",
       "         5.91525424,  6.89830508,  7.88135593,  8.86440678,  9.84745763,\n",
       "        10.83050847, 11.81355932, 12.79661017, 13.77966102, 14.76271186,\n",
       "        15.74576271, 16.72881356, 17.71186441, 18.69491525, 19.6779661 ,\n",
       "        20.66101695, 21.6440678 , 22.62711864, 23.61016949, 24.59322034,\n",
       "        25.57627119, 26.55932203, 27.54237288, 28.52542373, 29.50847458,\n",
       "        30.49152542, 31.47457627, 32.45762712, 33.44067797, 34.42372881,\n",
       "        35.40677966, 36.38983051, 37.37288136, 38.3559322 , 39.33898305,\n",
       "        40.3220339 , 41.30508475, 42.28813559, 43.27118644, 44.25423729,\n",
       "        45.23728814, 46.22033898, 47.20338983, 48.18644068, 49.16949153,\n",
       "        50.15254237, 51.13559322, 52.11864407, 53.10169492, 54.08474576,\n",
       "        55.06779661, 56.05084746, 57.03389831, 58.01694915, 59.        ]),\n",
       " <a list of 59 Patch objects>)"
      ]
     },
     "execution_count": 36,
     "metadata": {},
     "output_type": "execute_result"
    },
    {
     "data": {
      "image/png": "[encoded data removed]",
      "text/plain": [
       "<Figure size 432x288 with 1 Axes>"
      ]
     },
     "metadata": {
      "needs_background": "light"
     },
     "output_type": "display_data"
    }
   ],
   "source": [
    "#Now, do the same with average interval between poops\n",
    "plt.hist(female_defecation['avg_int'],color='red',alpha=0.5,bins=59)\n",
    "plt.hist(male_defecation['avg_int'],color='blue',alpha=0.5,bins=59)"
   ]
  },
  {
   "cell_type": "code",
   "execution_count": 37,
   "metadata": {},
   "outputs": [],
   "source": [
    "#What can you glean from these two graphs? \n",
    "#What is the most shocking aspect of these graphs?\n",
    "#What else can you look at? Age range? \n",
    "#See if you can squeeze a couple of these out."
   ]
  },
  {
   "cell_type": "code",
   "execution_count": null,
   "metadata": {},
   "outputs": [],
   "source": []
  },
  {
   "cell_type": "code",
   "execution_count": null,
   "metadata": {},
   "outputs": [],
   "source": []
  },
  {
   "cell_type": "code",
   "execution_count": null,
   "metadata": {},
   "outputs": [],
   "source": []
  },
  {
   "cell_type": "code",
   "execution_count": null,
   "metadata": {},
   "outputs": [],
   "source": []
  },
  {
   "cell_type": "code",
   "execution_count": null,
   "metadata": {},
   "outputs": [],
   "source": []
  }
 ],
 "metadata": {
  "kernelspec": {
   "display_name": "Python 3",
   "language": "python",
   "name": "python3"
  },
  "language_info": {
   "codemirror_mode": {
    "name": "ipython",
    "version": 3
   },
   "file_extension": ".py",
   "mimetype": "text/x-python",
   "name": "python",
   "nbconvert_exporter": "python",
   "pygments_lexer": "ipython3",
   "version": "3.6.6"
  }
 },
 "nbformat": 4,
 "nbformat_minor": 4
}
